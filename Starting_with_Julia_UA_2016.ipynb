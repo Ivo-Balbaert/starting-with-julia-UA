{
 "cells": [
  {
   "cell_type": "markdown",
   "metadata": {},
   "source": [
    "# Julia: what, why and how?"
   ]
  },
  {
   "cell_type": "markdown",
   "metadata": {},
   "source": [
    "**goal**: give motivation, illustrate key Julia concepts with practical examples, hands-on "
   ]
  },
  {
   "cell_type": "markdown",
   "metadata": {
    "collapsed": true
   },
   "source": [
    "  **website:**  http://julialang.org\n",
    "  \n",
    "  **logo:**![](Julia-Logo-Evolutionary.png)"
   ]
  },
  {
   "cell_type": "markdown",
   "metadata": {},
   "source": [
    "me: Ivo Balbaert \n",
    "   - software developer-consultant / teacher \n",
    "   - author of the book \"Getting started with Julia Programming\"\n",
    "   and the video-series \"Julia for Data Science\" (Packt Publishing)\n",
    "         \n",
    "    * ivo.balbaert@telenet.be\n",
    "    * Github: Ivo-Balbaert"
   ]
  },
  {
   "cell_type": "markdown",
   "metadata": {},
   "source": [
    "## What is Julia?        "
   ]
  },
  {
   "cell_type": "markdown",
   "metadata": {},
   "source": [
    "\n",
    "- a general purpose programming language, but specialized for **scientific/technical** calculations\n",
    "    --> the **future** of scientific computing\n",
    "    \n",
    "    * relatively young (2012), developed at MIT\n",
    "        open source, free, MIT license (allows commercial use), developed by a worldwide community (523 contributors)\n",
    "    \n",
    "    * used at universities/research groups, in data-science, financial calculations, ...\n",
    "      (http://julialang.org/community/)"
   ]
  },
  {
   "cell_type": "markdown",
   "metadata": {},
   "source": [
    "    \n",
    "- high-level and easy to learn, very readable:"
   ]
  },
  {
   "cell_type": "code",
   "execution_count": null,
   "metadata": {
    "collapsed": false
   },
   "outputs": [],
   "source": [
    "for s in [\"Julia\", \"works\", \"at\", \"UA\", \"just call her...\"]\n",
    "    println(s)\n",
    "end"
   ]
  },
  {
   "cell_type": "markdown",
   "metadata": {},
   "source": [
    "\n",
    "- interactive, dynamic language, with a REPL like MATLAB, Python.\n",
    "\n",
    "- but Just-In-Time (JIT) compiled"
   ]
  },
  {
   "cell_type": "markdown",
   "metadata": {},
   "source": [
    "## Why Julia?\n",
    "http://julialang.org/blog/2012/02/why-we-created-julia"
   ]
  },
  {
   "cell_type": "markdown",
   "metadata": {
    "collapsed": true
   },
   "source": [
    "it solves the 2-language problem:\n",
    "\n",
    "    * prototyping in Python or MATLAB\n",
    "            ** too slow !?\n",
    "    * rewriting (parts of) algorithms in C\n",
    "            ** C-expertise needed !?\n",
    "            \n",
    "not so with Julia!"
   ]
  },
  {
   "cell_type": "markdown",
   "metadata": {},
   "source": [
    "- Julia is fast: ~ 1-2 x C speed (http://julialang.org/ and  http://julialang.org/benchmarks)\n",
    "\n",
    "- Julia is excellent for prototyping"
   ]
  },
  {
   "cell_type": "markdown",
   "metadata": {},
   "source": [
    "- Most of Julia is written in Julia\n",
    "- Extensive metaprogramming possibilities\n",
    "- Concurrent, parallel, distributed, cloud computing\n",
    "- Computing on GPU's"
   ]
  },
  {
   "cell_type": "markdown",
   "metadata": {},
   "source": [
    "## How to use Julia?"
   ]
  },
  {
   "cell_type": "markdown",
   "metadata": {},
   "source": [
    "From the REPL (Read-Eval-Print Loop):\n",
    "\n",
    "      julia\n",
    "  \n",
    "Inside IJulia notebook (Jupyter notebook with Julia kernel):\n",
    "  \n",
    "      start Julia REPL:\n",
    "          using IJulia\n",
    "          notebook()\n",
    "  \n",
    "In the cloud: JuliaBox (http://juliabox.org)\n",
    "\n",
    "IDE's:\n",
    "\n",
    "    Inside a text editor, e.g. Juno (Atom-based) or Sublime Text\n",
    "    \n",
    "    Inside Eclipse: JuliaDT\n"
   ]
  },
  {
   "cell_type": "markdown",
   "metadata": {},
   "source": [
    "# A practical hands-on intro to Julia\n",
    "\n",
    "1. variables and types\n",
    "2. arrays and matrices\n",
    "3. conditions and loops\n",
    "4. functions - investigating performance\n",
    "5. macros\n",
    "6. scope and modules\n",
    "7. packages\n",
    "8. a simple data example\n",
    "further resources"
   ]
  },
  {
   "cell_type": "markdown",
   "metadata": {},
   "source": [
    "- Create (or get your) Google account: (https://accounts.google.com/SignUp?hl=nl)\n",
    "- Start JuliaBox: (http://juliabox.org)\n",
    "- Upload and open an existing notebook / Create a new notebook"
   ]
  },
  {
   "cell_type": "markdown",
   "metadata": {},
   "source": [
    "### 1-  variables and types"
   ]
  },
  {
   "cell_type": "code",
   "execution_count": null,
   "metadata": {
    "collapsed": false
   },
   "outputs": [],
   "source": [
    "7*sin(42)^5"
   ]
  },
  {
   "cell_type": "code",
   "execution_count": null,
   "metadata": {
    "collapsed": false
   },
   "outputs": [],
   "source": [
    "a = 42   # no indication of type!"
   ]
  },
  {
   "cell_type": "code",
   "execution_count": null,
   "metadata": {
    "collapsed": false
   },
   "outputs": [],
   "source": [
    "a"
   ]
  },
  {
   "cell_type": "code",
   "execution_count": null,
   "metadata": {
    "collapsed": false
   },
   "outputs": [],
   "source": [
    "ans"
   ]
  },
  {
   "cell_type": "code",
   "execution_count": null,
   "metadata": {
    "collapsed": false
   },
   "outputs": [],
   "source": [
    "a + b"
   ]
  },
  {
   "cell_type": "code",
   "execution_count": null,
   "metadata": {
    "collapsed": false
   },
   "outputs": [],
   "source": [
    "typeof(a)"
   ]
  },
  {
   "cell_type": "markdown",
   "metadata": {},
   "source": [
    "Julia has a sophisticated type system, but declaring types is optional\n",
    "\n",
    "    so prototyping is a lot easier"
   ]
  },
  {
   "cell_type": "code",
   "execution_count": null,
   "metadata": {
    "collapsed": false
   },
   "outputs": [],
   "source": [
    "# For performance: don't use global variables, use constants\n",
    "const T      = 150.    # This represents the maximal lifetime of the simulation [ms]\n",
    "const Δt     = 0.01    # This is the minimal step by which t is incremented as time goes by [ms] \n",
    "const C      = 0.010   # This is the membrane (specific) capacitance [uF/mm^"
   ]
  },
  {
   "cell_type": "code",
   "execution_count": null,
   "metadata": {
    "collapsed": false
   },
   "outputs": [],
   "source": [
    "x = 5; 3x - 15            # no * sign needed: write formulas like  in math: 5x^3 - 6.3x + 2 "
   ]
  },
  {
   "cell_type": "code",
   "execution_count": null,
   "metadata": {
    "collapsed": false
   },
   "outputs": [],
   "source": [
    "δ = 4.3                  # math symbols using LateX:   \\delta + TAB\n",
    "δ + 9\n",
    "# list of symbols: http://docs.julialang.org/en/release-0.4/manual/unicode-input/\n"
   ]
  },
  {
   "cell_type": "code",
   "execution_count": null,
   "metadata": {
    "collapsed": false
   },
   "outputs": [],
   "source": [
    "# strings:\n",
    "str = \"Universiteit Antwerpen\"\n",
    "println(str)\n",
    "println(\"We are at $str\")\n",
    "println(typeof(str))\n",
    "# char:\n",
    "char1 = 'A'\n",
    "str[1]              # 1-based indexing\n",
    "println(typeof(\"Güdrun\"))"
   ]
  },
  {
   "cell_type": "code",
   "execution_count": null,
   "metadata": {
    "collapsed": false
   },
   "outputs": [],
   "source": [
    "str = 3.14\n",
    "typeof(str)\n",
    "# NOT GOOD: type instability: don't change a variables type"
   ]
  },
  {
   "cell_type": "code",
   "execution_count": null,
   "metadata": {
    "collapsed": false
   },
   "outputs": [],
   "source": [
    "# regular expressions:\n",
    "email_pattern = r\".+@.+\"\n",
    "input = \"john.doe@ua.edu\"\n",
    "println(ismatch(email_pattern, input))"
   ]
  },
  {
   "cell_type": "code",
   "execution_count": null,
   "metadata": {
    "collapsed": false
   },
   "outputs": [],
   "source": [
    "# strong typing:\n",
    "x = \"UA\"\n",
    "y = 5\n",
    "x + y"
   ]
  },
  {
   "cell_type": "code",
   "execution_count": null,
   "metadata": {
    "collapsed": false
   },
   "outputs": [],
   "source": [
    "1:10          # range\n",
    "for i in 1:10\n",
    "    println(i)\n",
    "end"
   ]
  },
  {
   "cell_type": "markdown",
   "metadata": {},
   "source": [
    "### 2- arrays and matrices"
   ]
  },
  {
   "cell_type": "code",
   "execution_count": null,
   "metadata": {
    "collapsed": false
   },
   "outputs": [],
   "source": [
    "[1, 2, 3, 4]             # Vector (ordered by column):    Array{Int64,1} == Vector{Int64}"
   ]
  },
  {
   "cell_type": "code",
   "execution_count": null,
   "metadata": {
    "collapsed": false
   },
   "outputs": [],
   "source": [
    "[1 2 3 4]             # row"
   ]
  },
  {
   "cell_type": "code",
   "execution_count": null,
   "metadata": {
    "collapsed": false
   },
   "outputs": [],
   "source": [
    "m1 = [1.0 2.0 3.0; 4.0 5.0 6.0; 7.0 8.0 9.0] # Matrix:    Array{Float64,2} == Matrix{Float64}"
   ]
  },
  {
   "cell_type": "code",
   "execution_count": null,
   "metadata": {
    "collapsed": false
   },
   "outputs": [],
   "source": [
    "m2 = [1.0 0 0; 0 1.0 0; 0 0 1.0]  "
   ]
  },
  {
   "cell_type": "code",
   "execution_count": null,
   "metadata": {
    "collapsed": false
   },
   "outputs": [],
   "source": [
    "m2 = eye(3, 3)"
   ]
  },
  {
   "cell_type": "code",
   "execution_count": null,
   "metadata": {
    "collapsed": false
   },
   "outputs": [],
   "source": [
    "m1 + m2"
   ]
  },
  {
   "cell_type": "code",
   "execution_count": null,
   "metadata": {
    "collapsed": false
   },
   "outputs": [],
   "source": [
    "m1 .* m2"
   ]
  },
  {
   "cell_type": "code",
   "execution_count": null,
   "metadata": {
    "collapsed": false
   },
   "outputs": [],
   "source": [
    "m1[2, 2]                # row 2, column 2"
   ]
  },
  {
   "cell_type": "code",
   "execution_count": null,
   "metadata": {
    "collapsed": false
   },
   "outputs": [],
   "source": [
    "m1[3, :]                # row 3, all columns"
   ]
  },
  {
   "cell_type": "code",
   "execution_count": null,
   "metadata": {
    "collapsed": false
   },
   "outputs": [],
   "source": [
    "m1[3, 2:3]              # row 3, columns 2 to 3"
   ]
  },
  {
   "cell_type": "code",
   "execution_count": null,
   "metadata": {
    "collapsed": false
   },
   "outputs": [],
   "source": [
    "v1 = rand(Int32, 5)    # random integers"
   ]
  },
  {
   "cell_type": "code",
   "execution_count": null,
   "metadata": {
    "collapsed": false
   },
   "outputs": [],
   "source": [
    "v2 = randn(5)   # random integers normalized"
   ]
  },
  {
   "cell_type": "code",
   "execution_count": null,
   "metadata": {
    "collapsed": false
   },
   "outputs": [],
   "source": [
    "?randn"
   ]
  },
  {
   "cell_type": "markdown",
   "metadata": {},
   "source": [
    "To increase performance: indicate the type of the elements of the array, dictionary, etc.:"
   ]
  },
  {
   "cell_type": "code",
   "execution_count": null,
   "metadata": {
    "collapsed": false
   },
   "outputs": [],
   "source": [
    "a = Number[1,2,3,4,5,6,7,8,9,10]   # not good: Number is abstract type"
   ]
  },
  {
   "cell_type": "code",
   "execution_count": null,
   "metadata": {
    "collapsed": false
   },
   "outputs": [],
   "source": [
    "a = Int64[1,2,3,4,5,6,7,8,9,10]     # best"
   ]
  },
  {
   "cell_type": "markdown",
   "metadata": {},
   "source": [
    "Other types: tuples, dictionaries, sets, user-defined types"
   ]
  },
  {
   "cell_type": "code",
   "execution_count": null,
   "metadata": {
    "collapsed": false
   },
   "outputs": [],
   "source": [
    "type Point\n",
    "    x::Float64\n",
    "    y::Float64\n",
    "end\n",
    "\n",
    "p = Point(2.0, 3.0)"
   ]
  },
  {
   "cell_type": "code",
   "execution_count": null,
   "metadata": {
    "collapsed": false
   },
   "outputs": [],
   "source": [
    "# more general: parameterized type:\n",
    "type ParamPoint{T <: Number}\n",
    "    x::T\n",
    "    y::T\n",
    "end\n",
    "\n",
    "p1 = ParamPoint(2, 3)"
   ]
  },
  {
   "cell_type": "code",
   "execution_count": null,
   "metadata": {
    "collapsed": false
   },
   "outputs": [],
   "source": [
    "p2 = ParamPoint(2.0, 3.0)"
   ]
  },
  {
   "cell_type": "markdown",
   "metadata": {
    "collapsed": true
   },
   "source": [
    "### 3-conditions and loops\n",
    "    as in other programming languages"
   ]
  },
  {
   "cell_type": "code",
   "execution_count": null,
   "metadata": {
    "collapsed": false
   },
   "outputs": [],
   "source": [
    "# if else:\n",
    "var = 7\n",
    "if var > 10\n",
    "    println(\"var has value $var and is bigger than 10.\")\n",
    "elseif var < 10    # This elseif clause is optional.\n",
    "    println(\"var has value $var and is smaller than 10.\")\n",
    "else                    # The else clause is optional too.\n",
    "    println(\"var has value $var and is 10.\")\n",
    "end"
   ]
  },
  {
   "cell_type": "code",
   "execution_count": null,
   "metadata": {
    "collapsed": false
   },
   "outputs": [],
   "source": [
    "# for - loop: \n",
    "for n = 1:10  \n",
    "    println(n^3)  \n",
    "end"
   ]
  },
  {
   "cell_type": "code",
   "execution_count": null,
   "metadata": {
    "collapsed": true
   },
   "outputs": [],
   "source": [
    "# while, break, continue, try/catch"
   ]
  },
  {
   "cell_type": "markdown",
   "metadata": {},
   "source": [
    "### 4- functions\n",
    "    Julia is a functional language (and not completely object-oriented)\n",
    "        in OO languages (Java, C#, Python, etc.): a class has fields + methods\n",
    "        in Julia:   a type: has fields\n",
    "                    a function: has methods"
   ]
  },
  {
   "cell_type": "code",
   "execution_count": null,
   "metadata": {
    "collapsed": false
   },
   "outputs": [],
   "source": [
    "# built-in:\n",
    "println(sqrt(49))\n",
    "arr1 = [42, 8, -9, 0]\n",
    "sort(arr1)"
   ]
  },
  {
   "cell_type": "code",
   "execution_count": null,
   "metadata": {
    "collapsed": false
   },
   "outputs": [],
   "source": [
    "# one-line functions:\n",
    "calc(x, y, z) = (x + y) * z       # defining the function with ="
   ]
  },
  {
   "cell_type": "code",
   "execution_count": null,
   "metadata": {
    "collapsed": false
   },
   "outputs": [],
   "source": [
    "a = 1; b = 2; c = 3\n",
    "calc(a, b, c)        # calling the function"
   ]
  },
  {
   "cell_type": "code",
   "execution_count": null,
   "metadata": {
    "collapsed": false
   },
   "outputs": [],
   "source": [
    "# lambda (or anonymous) functions:\n",
    "x -> x^5 - 3"
   ]
  },
  {
   "cell_type": "code",
   "execution_count": null,
   "metadata": {
    "collapsed": false
   },
   "outputs": [],
   "source": [
    "map(x -> x^5 - 3, 0:5)"
   ]
  },
  {
   "cell_type": "code",
   "execution_count": null,
   "metadata": {
    "collapsed": false
   },
   "outputs": [],
   "source": [
    "# general (multi-line) function:\n",
    "function calc(x, y, z)    # generic: no types!\n",
    "    if x < 0\n",
    "        return 0\n",
    "    end\n",
    "    (x + y) * z           # return optional\n",
    "end"
   ]
  },
  {
   "cell_type": "code",
   "execution_count": null,
   "metadata": {
    "collapsed": false
   },
   "outputs": [],
   "source": [
    "calc(-1, 2, 3)          # works for integers"
   ]
  },
  {
   "cell_type": "code",
   "execution_count": null,
   "metadata": {
    "collapsed": false
   },
   "outputs": [],
   "source": [
    "calc(-3.5, 2.0, 3)      # works for floats"
   ]
  },
  {
   "cell_type": "code",
   "execution_count": null,
   "metadata": {
    "collapsed": false
   },
   "outputs": [],
   "source": [
    "function calc(x::Int64, y, z)    \n",
    "    if x < 0\n",
    "        return -42\n",
    "    end\n",
    "    (x + y) * z           # return (x + y) * z   #  return is optional\n",
    "end"
   ]
  },
  {
   "cell_type": "markdown",
   "metadata": {},
   "source": [
    "Important observations:\n",
    "\n",
    "(1) A generic function can have a number of typed methods   (for example: the + function)\n",
    "\n",
    "        !! The executable (native or machine) code that is generated is type specialized !! ==> PERFORMANCE\n",
    "        The native code is generated when the function is called (JIT)\n",
    "\n",
    "(2) Indicating the type of the function parameters is not necessary: these are determined by the compiler"
   ]
  },
  {
   "cell_type": "code",
   "execution_count": null,
   "metadata": {
    "collapsed": false
   },
   "outputs": [],
   "source": [
    "+"
   ]
  },
  {
   "cell_type": "code",
   "execution_count": null,
   "metadata": {
    "collapsed": false
   },
   "outputs": [],
   "source": [
    "methods(+)"
   ]
  },
  {
   "cell_type": "markdown",
   "metadata": {},
   "source": [
    "### Multiple dispatch\n",
    "    At runtime: how does Julia picks the right method?\n",
    "    --> the most suitable method is automatically chosen, based on the types of the arguments"
   ]
  },
  {
   "cell_type": "code",
   "execution_count": null,
   "metadata": {
    "collapsed": false
   },
   "outputs": [],
   "source": [
    "# Example of multiple dispatch:\n",
    "md(a, b) = \"base case\"\n",
    "md(a::Number, b::Number) = \"a and b are numbers\"\n",
    "md(a::Number, b) = \"a=number, b=?\"\n",
    "md(a, b::Number) = \"a=?, b=number\"\n",
    "md(a::Integer, b::Integer) = \"a and b are integers\""
   ]
  },
  {
   "cell_type": "code",
   "execution_count": null,
   "metadata": {
    "collapsed": false
   },
   "outputs": [],
   "source": [
    "md(5.0, 1)"
   ]
  },
  {
   "cell_type": "code",
   "execution_count": null,
   "metadata": {
    "collapsed": false
   },
   "outputs": [],
   "source": [
    "md(5, 10)"
   ]
  },
  {
   "cell_type": "code",
   "execution_count": null,
   "metadata": {
    "collapsed": false
   },
   "outputs": [],
   "source": [
    "md(5, \"something\")"
   ]
  },
  {
   "cell_type": "code",
   "execution_count": null,
   "metadata": {
    "collapsed": false
   },
   "outputs": [],
   "source": [
    "md(\"something\", [2,4])"
   ]
  },
  {
   "cell_type": "markdown",
   "metadata": {},
   "source": [
    "### pipe operator |>"
   ]
  },
  {
   "cell_type": "code",
   "execution_count": null,
   "metadata": {
    "collapsed": false
   },
   "outputs": [],
   "source": [
    "arr = collect(1:5)\n"
   ]
  },
  {
   "cell_type": "code",
   "execution_count": null,
   "metadata": {
    "collapsed": false
   },
   "outputs": [],
   "source": [
    "inv(sum(map(x->x^2, arr)))"
   ]
  },
  {
   "cell_type": "code",
   "execution_count": null,
   "metadata": {
    "collapsed": false
   },
   "outputs": [],
   "source": [
    "arr |> x->x.^2 |> sum |> inv"
   ]
  },
  {
   "cell_type": "markdown",
   "metadata": {},
   "source": [
    "## Investigating performance with @time and @code_warntype"
   ]
  },
  {
   "cell_type": "code",
   "execution_count": null,
   "metadata": {
    "collapsed": false
   },
   "outputs": [],
   "source": [
    "sqrt(49)\n",
    "@time sqrt(49)  # measure performance after a warm-up (dry run) - why? 1st time = JIT compilation"
   ]
  },
  {
   "cell_type": "code",
   "execution_count": null,
   "metadata": {
    "collapsed": false
   },
   "outputs": [],
   "source": [
    "#1 - all code global:\n",
    "include(\"glob.jl\")   # copy and execute the contents of the source code file glob.jl into this file/session\n",
    "# first include is warm-up ;-)\n",
    "@time include(\"glob.jl\")"
   ]
  },
  {
   "cell_type": "code",
   "execution_count": null,
   "metadata": {
    "collapsed": false
   },
   "outputs": [],
   "source": [
    "#2 - code in a function:\n",
    "include(\"func.jl\")\n",
    "@time include(\"func.jl\")"
   ]
  },
  {
   "cell_type": "code",
   "execution_count": null,
   "metadata": {
    "collapsed": false
   },
   "outputs": [],
   "source": [
    "#3 - make code type stable:\n",
    "include(\"func_type_stable.jl\")\n",
    "@time include(\"func_type_stable.jl\")"
   ]
  },
  {
   "cell_type": "markdown",
   "metadata": {},
   "source": [
    "==> To increase performance when code is production-ready:\n",
    "#### put ALL code in functions (except for some constants)\n",
    "#### ensure type stability of functions: \n",
    "            a variable must not change type (like result in the previous example)\n",
    "            a function always returns the same type, no matter what the input values are"
   ]
  },
  {
   "cell_type": "code",
   "execution_count": null,
   "metadata": {
    "collapsed": false
   },
   "outputs": [],
   "source": [
    "# type-unstable version:\n",
    "function calculation()\n",
    "    result = 0\n",
    "    n = 1000_000\n",
    "    for i in 1:n\n",
    "        result += sin(rand())\n",
    "    end\n",
    "    return result \n",
    "end\n",
    "\n",
    "@code_warntype calculation()    #  result::ANY  is bad! (no type)"
   ]
  },
  {
   "cell_type": "code",
   "execution_count": null,
   "metadata": {
    "collapsed": false
   },
   "outputs": [],
   "source": [
    "#type-stable version:\n",
    "function calculation()\n",
    "    result = 0.0\n",
    "    n = 1000_000\n",
    "    for i in 1:n\n",
    "        result += sin(rand())\n",
    "    end\n",
    "    return result \n",
    "end\n",
    "\n",
    "@code_warntype calculation()"
   ]
  },
  {
   "cell_type": "markdown",
   "metadata": {},
   "source": [
    "### 5- macros\n",
    "Macros can change or generate code at compile time, they start with @, example: @time\n",
    "\n",
    "2 kinds:\n",
    "    - built-in, like @time\n",
    "    - self-made"
   ]
  },
  {
   "cell_type": "code",
   "execution_count": null,
   "metadata": {
    "collapsed": false
   },
   "outputs": [],
   "source": [
    "@assert 108 == 2 + 105"
   ]
  },
  {
   "cell_type": "code",
   "execution_count": null,
   "metadata": {
    "collapsed": false
   },
   "outputs": [],
   "source": [
    "@which (1 + 2im) * (2 - 8im)"
   ]
  },
  {
   "cell_type": "markdown",
   "metadata": {},
   "source": [
    "### 6- scope and modules"
   ]
  },
  {
   "cell_type": "code",
   "execution_count": null,
   "metadata": {
    "collapsed": false
   },
   "outputs": [],
   "source": [
    "# scope:\n",
    "function func3(x)\n",
    "    t = 5     # y is local variable in func3\n",
    "    print(x * t)\n",
    "end"
   ]
  },
  {
   "cell_type": "code",
   "execution_count": null,
   "metadata": {
    "collapsed": false
   },
   "outputs": [],
   "source": [
    "func3(3)"
   ]
  },
  {
   "cell_type": "code",
   "execution_count": null,
   "metadata": {
    "collapsed": false
   },
   "outputs": [],
   "source": [
    "t"
   ]
  },
  {
   "cell_type": "markdown",
   "metadata": {},
   "source": [
    "Code is grouped in modules.\n",
    "A module forms a separate namespace for its constants, variables and functions.\n",
    "\n",
    "A library in Julia is called a **package**, it is a module or group of modules.\n",
    "\n",
    "Standard modules: \n",
    "\n",
    "    - Core and Base (= standard library): automatically imported\n",
    "    - Main = top-level module"
   ]
  },
  {
   "cell_type": "code",
   "execution_count": null,
   "metadata": {
    "collapsed": false
   },
   "outputs": [],
   "source": [
    "whos()"
   ]
  },
  {
   "cell_type": "markdown",
   "metadata": {},
   "source": [
    "All other modules:\n",
    "\n",
    "    - if already installed in the local environment:  using ModuleName"
   ]
  },
  {
   "cell_type": "markdown",
   "metadata": {},
   "source": [
    "How to define your own module(s)?"
   ]
  },
  {
   "cell_type": "code",
   "execution_count": null,
   "metadata": {
    "collapsed": false
   },
   "outputs": [],
   "source": [
    "module MyModule\n",
    "       \n",
    "    export bar, m\n",
    "    m = 42\n",
    "    bar(x) = 2x\n",
    "    foo(x) = 5x^5 - 4\n",
    "\n",
    "end"
   ]
  },
  {
   "cell_type": "code",
   "execution_count": null,
   "metadata": {
    "collapsed": false
   },
   "outputs": [],
   "source": [
    "using MyModule    # makes known all exported variables and functions"
   ]
  },
  {
   "cell_type": "code",
   "execution_count": null,
   "metadata": {
    "collapsed": false
   },
   "outputs": [],
   "source": [
    "m"
   ]
  },
  {
   "cell_type": "code",
   "execution_count": null,
   "metadata": {
    "collapsed": false
   },
   "outputs": [],
   "source": [
    "bar(5)"
   ]
  },
  {
   "cell_type": "code",
   "execution_count": null,
   "metadata": {
    "collapsed": false
   },
   "outputs": [],
   "source": [
    "foo(5)"
   ]
  },
  {
   "cell_type": "code",
   "execution_count": null,
   "metadata": {
    "collapsed": false
   },
   "outputs": [],
   "source": [
    "MyModule.foo(5)"
   ]
  },
  {
   "cell_type": "code",
   "execution_count": null,
   "metadata": {
    "collapsed": false
   },
   "outputs": [],
   "source": [
    "module MyModule2\n",
    "\n",
    "    using MyModule   \n",
    "    export baragain \n",
    "    baragain() = print(bar(2))\n",
    "\n",
    "end"
   ]
  },
  {
   "cell_type": "code",
   "execution_count": null,
   "metadata": {
    "collapsed": false
   },
   "outputs": [],
   "source": [
    "MyModule2.baragain()"
   ]
  },
  {
   "cell_type": "markdown",
   "metadata": {},
   "source": [
    "Example using include:\n",
    "\n",
    "    iris_tools.jl and use_iris_tools.jl"
   ]
  },
  {
   "cell_type": "markdown",
   "metadata": {},
   "source": [
    "### 7- packages"
   ]
  },
  {
   "cell_type": "markdown",
   "metadata": {},
   "source": [
    "- Finding a package: http://pkg.julialang.org  # official Julia package repository\n",
    "             interface with R, MATLAB and Python libraries via RCall, MATLAB and PyCall packages         "
   ]
  },
  {
   "cell_type": "markdown",
   "metadata": {},
   "source": [
    "- Installing a package to your Julia environment:\n",
    "             use the built-in package manager Pkg             "
   ]
  },
  {
   "cell_type": "code",
   "execution_count": null,
   "metadata": {
    "collapsed": false
   },
   "outputs": [],
   "source": [
    "Pkg.add(\"RCall\")          # if package is published in the GitHub repository"
   ]
  },
  {
   "cell_type": "code",
   "execution_count": null,
   "metadata": {
    "collapsed": false
   },
   "outputs": [],
   "source": [
    "# What is installed?\n",
    "Pkg.status()"
   ]
  },
  {
   "cell_type": "code",
   "execution_count": null,
   "metadata": {
    "collapsed": false
   },
   "outputs": [],
   "source": [
    "# Updating packages in your Julia environment:\n",
    "Pkg.update()"
   ]
  },
  {
   "cell_type": "code",
   "execution_count": null,
   "metadata": {
    "collapsed": false
   },
   "outputs": [],
   "source": [
    "# Getting a package from GitHub if not in Julia repository, for example ANN:\n",
    "Pkg.clone(\"git@github.com:EricChiang/ANN.jl.git\")"
   ]
  },
  {
   "cell_type": "code",
   "execution_count": null,
   "metadata": {
    "collapsed": true
   },
   "outputs": [],
   "source": [
    "# pinning a package to a certain version:\n",
    "Pkg.pin(\"HDF5\", v\"0.4.3\")"
   ]
  },
  {
   "cell_type": "markdown",
   "metadata": {},
   "source": [
    "### 8- simple data example"
   ]
  },
  {
   "cell_type": "code",
   "execution_count": null,
   "metadata": {
    "collapsed": false
   },
   "outputs": [],
   "source": [
    "fname = \"iris.csv\"\n",
    "using DataFrames\n",
    "data = readtable(fname, separator = ',')"
   ]
  },
  {
   "cell_type": "code",
   "execution_count": null,
   "metadata": {
    "collapsed": false
   },
   "outputs": [],
   "source": [
    "# drawing a scatterplot with package Gadfly:\n",
    "using Gadfly\n",
    "set_default_plot_size(15cm, 15cm/golden)\n",
    "p = plot(data, x=\"sepal_width\", y=\"sepal_length\", \n",
    "         color=\"species\",\n",
    "         Guide.xlabel(\"Sepal Width\"),  \n",
    "         Guide.ylabel(\"Sepal Length\"), \n",
    "Guide.title(\"Scatterplot of Sepal Length versus Width\") )"
   ]
  },
  {
   "cell_type": "markdown",
   "metadata": {},
   "source": [
    "## Getting help with Julia"
   ]
  },
  {
   "cell_type": "markdown",
   "metadata": {},
   "source": [
    "**Julia manual** (http://julia.readthedocs.io/en/latest/manual/)\n",
    "\n",
    "**Julia-users mailing list** (https://groups.google.com/forum/#!forum/julia-users)\n",
    "\n",
    "**List of resources for learning Julia** (http://julialang.org/learning/)\n",
    "\n",
    "**Packages** (http://pkg.julialang.org/)\n",
    "\n",
    "**Other resources** (https://github.com/svaksha/Julia.jl#index)"
   ]
  }
 ],
 "metadata": {
  "kernelspec": {
   "display_name": "Julia 0.4.5",
   "language": "julia",
   "name": "julia-0.4"
  },
  "language_info": {
   "file_extension": ".jl",
   "mimetype": "application/julia",
   "name": "julia",
   "version": "0.4.5"
  }
 },
 "nbformat": 4,
 "nbformat_minor": 0
}

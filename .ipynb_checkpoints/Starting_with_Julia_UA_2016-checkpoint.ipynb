{
 "cells": [
  {
   "cell_type": "markdown",
   "metadata": {},
   "source": [
    "# Julia: what, why and how?"
   ]
  },
  {
   "cell_type": "markdown",
   "metadata": {},
   "source": [
    "**goal**: give motivation, illustrate key Julia concepts with practical examples, hands-on "
   ]
  },
  {
   "cell_type": "markdown",
   "metadata": {
    "collapsed": true
   },
   "source": [
    "  **website:**  http://julialang.org\n",
    "  \n",
    "  **logo:**![](Julia-Logo-Evolutionary.png)"
   ]
  },
  {
   "cell_type": "markdown",
   "metadata": {},
   "source": [
    "me: Ivo Balbaert - software developer / teacher / consultant - Julia evangelist\n",
    "    * ivo.balbaert@telenet.be\n",
    "    * Github: Ivo-Balbaert"
   ]
  },
  {
   "cell_type": "markdown",
   "metadata": {},
   "source": [
    "## What is Julia?        "
   ]
  },
  {
   "cell_type": "markdown",
   "metadata": {},
   "source": [
    "\n",
    "- a general programming language, but specialized for **scientific/technical** calculations\n",
    "    --> the **future** of scientific computing\n",
    "    \n",
    "    * relatively young (2012), developed at MIT\n",
    "        open source, FREE, MIT license (allows commercial use), developed by a worldwide community\n",
    "    \n",
    "    * used at universities/research groups, in data-science, financial calculations"
   ]
  },
  {
   "cell_type": "markdown",
   "metadata": {},
   "source": [
    "    \n",
    "- high-level and easy to learn, very readable:"
   ]
  },
  {
   "cell_type": "code",
   "execution_count": null,
   "metadata": {
    "collapsed": false
   },
   "outputs": [],
   "source": [
    "for s in [\"Julia\", \"works\", \"at\", \"UA\", \"just call her...\"]\n",
    "    println(s)\n",
    "end"
   ]
  },
  {
   "cell_type": "markdown",
   "metadata": {},
   "source": [
    "\n",
    "- interactive, dynamic language, with a REPL like MATLAB, Python.\n",
    "\n",
    "- but Just-In-Time (JIT) compiled"
   ]
  },
  {
   "cell_type": "markdown",
   "metadata": {},
   "source": [
    "## Why Julia?"
   ]
  },
  {
   "cell_type": "markdown",
   "metadata": {
    "collapsed": true
   },
   "source": [
    "it solves the 2-language problem:\n",
    "\n",
    "    * prototyping in Python or MATLAB\n",
    "            ** too slow !?\n",
    "    * rewriting (parts of) algorithms in C\n",
    "            ** C-expertise needed !?\n",
    "            \n",
    "not so with Julia!"
   ]
  },
  {
   "cell_type": "markdown",
   "metadata": {},
   "source": [
    "- Julia is fast: ~ 1-2 x C speed (http://julialang.org/benchmarks)\n",
    "\n",
    "- Julia is excellent for prototyping"
   ]
  },
  {
   "cell_type": "markdown",
   "metadata": {},
   "source": [
    "- Most of Julia is written in Julia\n",
    "- Metaprogramming possibilities\n",
    "- Concurrent, parallel, distributed computing using GPU's\n",
    "- Cloud computing"
   ]
  },
  {
   "cell_type": "markdown",
   "metadata": {},
   "source": [
    "## How to use Julia?"
   ]
  },
  {
   "cell_type": "markdown",
   "metadata": {},
   "source": [
    "From the REPL (Read--Eval--Print Loop):\n",
    "\n",
    "      julia\n",
    "  \n",
    "Inside IJulia notebook (Jupyter notebook with Julia kernel):\n",
    "  \n",
    "      start Julia REPL:\n",
    "          using IJulia\n",
    "          notebook()\n",
    "  \n",
    "In the cloud: JuliaBox (http://juliabox.org)\n",
    "\n",
    "IDE's:\n",
    "\n",
    "    Inside a text editor, e.g. Juno (Atom-based)\n",
    "    \n",
    "    Inside Eclipse: JuliaDT\n"
   ]
  },
  {
   "cell_type": "markdown",
   "metadata": {},
   "source": [
    "## Getting help with Julia"
   ]
  },
  {
   "cell_type": "markdown",
   "metadata": {},
   "source": [
    "**Julia manual** (http://julia.readthedocs.io/en/latest/manual/)\n",
    "\n",
    "**Julia-users mailing list** (https://groups.google.com/forum/#!forum/julia-users)\n",
    "\n",
    "**List of resources for learning Julia** (http://julialang.org/learning/)\n",
    "\n",
    "**Packages** (http://pkg.julialang.org/)\n",
    "\n",
    "**Other resources** (https://github.com/svaksha/Julia.jl#index)"
   ]
  },
  {
   "cell_type": "markdown",
   "metadata": {},
   "source": [
    "# A practical hands-on intro to Julia"
   ]
  },
  {
   "cell_type": "markdown",
   "metadata": {},
   "source": [
    "- Create (or get your) Google account: (https://accounts.google.com/SignUp?hl=nl)\n",
    "- Start JuliaBox: (http://juliabox.org)\n",
    "- Upload and open an existing notebook / Create a new notebook"
   ]
  },
  {
   "cell_type": "markdown",
   "metadata": {},
   "source": [
    "### 1-  variables and types"
   ]
  },
  {
   "cell_type": "code",
   "execution_count": null,
   "metadata": {
    "collapsed": false
   },
   "outputs": [],
   "source": [
    "7*sin(42)^5"
   ]
  },
  {
   "cell_type": "code",
   "execution_count": null,
   "metadata": {
    "collapsed": false
   },
   "outputs": [],
   "source": [
    "a = 42   # no indication of type!"
   ]
  },
  {
   "cell_type": "code",
   "execution_count": null,
   "metadata": {
    "collapsed": false
   },
   "outputs": [],
   "source": [
    "a"
   ]
  },
  {
   "cell_type": "code",
   "execution_count": null,
   "metadata": {
    "collapsed": false
   },
   "outputs": [],
   "source": [
    "ans"
   ]
  },
  {
   "cell_type": "code",
   "execution_count": null,
   "metadata": {
    "collapsed": false
   },
   "outputs": [],
   "source": [
    "a + b"
   ]
  },
  {
   "cell_type": "code",
   "execution_count": null,
   "metadata": {
    "collapsed": false
   },
   "outputs": [],
   "source": [
    "typeof(a)"
   ]
  },
  {
   "cell_type": "markdown",
   "metadata": {},
   "source": [
    "Julia has a sophisticated type system, but giving types is optional\n",
    "\n",
    "    so prototyping is a lot easier"
   ]
  },
  {
   "cell_type": "code",
   "execution_count": null,
   "metadata": {
    "collapsed": false
   },
   "outputs": [],
   "source": [
    "# For performance: don't use global variables, use constants\n",
    "const T      = 150.    # This represents the maximal lifetime of the simulation [ms]\n",
    "const Δt     = 0.01    # This is the minimal step by which t is incremented as time goes by [ms] \n",
    "const C      = 0.010   # This is the membrane (specific) capacitance [uF/mm^"
   ]
  },
  {
   "cell_type": "code",
   "execution_count": null,
   "metadata": {
    "collapsed": false
   },
   "outputs": [],
   "source": [
    "x = 5; 3x - 15            # no * sign needed: write formulas like  in math: 5x^3 - 6.3x + 2 "
   ]
  },
  {
   "cell_type": "code",
   "execution_count": null,
   "metadata": {
    "collapsed": false
   },
   "outputs": [],
   "source": [
    "δ = 4.3                  # math symbols using LateX:   \\delta + TAB\n",
    "δ + 9\n",
    "# list of symbols: http://docs.julialang.org/en/release-0.4/manual/unicode-input/"
   ]
  },
  {
   "cell_type": "code",
   "execution_count": null,
   "metadata": {
    "collapsed": false
   },
   "outputs": [],
   "source": [
    "# strings:\n",
    "str = \"Universiteit Antwerpen\"\n",
    "println(str)\n",
    "println(\"We are at $str\")\n",
    "println(typeof(str))\n",
    "# char:\n",
    "char1 = 'A'\n",
    "str[1]              # 1-based indexing\n",
    "println(typeof(\"Güdrun\"))"
   ]
  },
  {
   "cell_type": "code",
   "execution_count": null,
   "metadata": {
    "collapsed": false
   },
   "outputs": [],
   "source": [
    "str = 3.14\n",
    "typeof(str)\n",
    "# NOT GOOD: type instability: don't change a variables type"
   ]
  },
  {
   "cell_type": "code",
   "execution_count": null,
   "metadata": {
    "collapsed": false
   },
   "outputs": [],
   "source": [
    "# regular expressions:\n",
    "email_pattern = r\".+@.+\"\n",
    "input = \"john.doe@ua.edu\"\n",
    "println(ismatch(email_pattern, input))"
   ]
  },
  {
   "cell_type": "code",
   "execution_count": null,
   "metadata": {
    "collapsed": false
   },
   "outputs": [],
   "source": [
    "# strong typing:\n",
    "x = \"UA\"\n",
    "y = 5\n",
    "x + y"
   ]
  },
  {
   "cell_type": "code",
   "execution_count": null,
   "metadata": {
    "collapsed": false
   },
   "outputs": [],
   "source": [
    "1:10          # range\n",
    "for i in 1:10\n",
    "    println(i)\n",
    "end"
   ]
  },
  {
   "cell_type": "markdown",
   "metadata": {},
   "source": [
    "### 2- arrays and matrices"
   ]
  },
  {
   "cell_type": "code",
   "execution_count": null,
   "metadata": {
    "collapsed": false
   },
   "outputs": [],
   "source": [
    "[1, 2, 3, 4]             # Vector (ordered by column):    Array{Int64,1} == Vector{Int64}"
   ]
  },
  {
   "cell_type": "code",
   "execution_count": null,
   "metadata": {
    "collapsed": false
   },
   "outputs": [],
   "source": [
    "[1 2 3 4]               # row"
   ]
  },
  {
   "cell_type": "code",
   "execution_count": null,
   "metadata": {
    "collapsed": false
   },
   "outputs": [],
   "source": [
    "m1 = [1.0 2.0 3.0; 4.0 5.0 6.0; 7.0 8.0 9.0]  # Matrix:    Array{Float64,2} == Matrix{Float64}"
   ]
  },
  {
   "cell_type": "code",
   "execution_count": null,
   "metadata": {
    "collapsed": false
   },
   "outputs": [],
   "source": [
    "whos()"
   ]
  },
  {
   "cell_type": "code",
   "execution_count": null,
   "metadata": {
    "collapsed": false
   },
   "outputs": [],
   "source": [
    "m2 = [1.0 0 0; 0 1.0 0; 0 0 1.0]  # m2 = eye(3, 3)"
   ]
  },
  {
   "cell_type": "code",
   "execution_count": null,
   "metadata": {
    "collapsed": false
   },
   "outputs": [],
   "source": [
    "m1 + m2"
   ]
  },
  {
   "cell_type": "code",
   "execution_count": null,
   "metadata": {
    "collapsed": false
   },
   "outputs": [],
   "source": [
    "m1 .* m2"
   ]
  },
  {
   "cell_type": "code",
   "execution_count": null,
   "metadata": {
    "collapsed": false
   },
   "outputs": [],
   "source": [
    "m1[2, 2]                # row 2, column 2"
   ]
  },
  {
   "cell_type": "code",
   "execution_count": null,
   "metadata": {
    "collapsed": false
   },
   "outputs": [],
   "source": [
    "m1[3, :]                # row 3, all columns"
   ]
  },
  {
   "cell_type": "code",
   "execution_count": null,
   "metadata": {
    "collapsed": false
   },
   "outputs": [],
   "source": [
    "m1[3, 2:3]              # row 3, columns 2 and 3"
   ]
  },
  {
   "cell_type": "code",
   "execution_count": null,
   "metadata": {
    "collapsed": false
   },
   "outputs": [],
   "source": [
    "v1 = rand(Int32, 5)    # random integers"
   ]
  },
  {
   "cell_type": "code",
   "execution_count": null,
   "metadata": {
    "collapsed": false
   },
   "outputs": [],
   "source": [
    "v2 = randn(5)    # random integers normalized"
   ]
  },
  {
   "cell_type": "code",
   "execution_count": null,
   "metadata": {
    "collapsed": false
   },
   "outputs": [],
   "source": [
    "?randn"
   ]
  },
  {
   "cell_type": "markdown",
   "metadata": {},
   "source": [
    "To increase performance: indicate the type of the elements of the array, dictionary, etc.:"
   ]
  },
  {
   "cell_type": "code",
   "execution_count": null,
   "metadata": {
    "collapsed": false
   },
   "outputs": [],
   "source": [
    "a = Number[1,2,3,4,5,6,7,8,9,10]   # not good: Number is abstract type"
   ]
  },
  {
   "cell_type": "code",
   "execution_count": null,
   "metadata": {
    "collapsed": false
   },
   "outputs": [],
   "source": [
    "a = Int64[1,2,3,4,5,6,7,8,9,10]     # best"
   ]
  },
  {
   "cell_type": "markdown",
   "metadata": {},
   "source": [
    "Other types: tuples, dictionaries, sets, user-defined types"
   ]
  },
  {
   "cell_type": "code",
   "execution_count": null,
   "metadata": {
    "collapsed": false
   },
   "outputs": [],
   "source": [
    "type Point\n",
    "    x::Float64\n",
    "    y::Float64\n",
    "end\n",
    "\n",
    "p = Point(2.0, 3.0)"
   ]
  },
  {
   "cell_type": "code",
   "execution_count": null,
   "metadata": {
    "collapsed": false
   },
   "outputs": [],
   "source": [
    "# better: parameterized type:\n",
    "type ParamPoint{T <: Number}\n",
    "    x::T\n",
    "    y::T\n",
    "end\n",
    "\n",
    "p1 = ParamPoint(2, 3)"
   ]
  },
  {
   "cell_type": "code",
   "execution_count": null,
   "metadata": {
    "collapsed": false
   },
   "outputs": [],
   "source": [
    "p2 = ParamPoint(2.0, 3.0)"
   ]
  },
  {
   "cell_type": "markdown",
   "metadata": {},
   "source": [
    "### 3- functions\n",
    "    Julia is a functional language (>< object-oriented)"
   ]
  },
  {
   "cell_type": "code",
   "execution_count": null,
   "metadata": {
    "collapsed": false
   },
   "outputs": [],
   "source": [
    "# built-in:\n",
    "println(sqrt(49))\n",
    "arr1 = [42, 8, -9, 0]\n",
    "sort(arr1)"
   ]
  },
  {
   "cell_type": "code",
   "execution_count": null,
   "metadata": {
    "collapsed": false
   },
   "outputs": [],
   "source": [
    "# one-line functions:\n",
    "a = 1; b = 2; c = 3\n",
    "calc(a, b, c) = (a + b) * c        # defining the function with ="
   ]
  },
  {
   "cell_type": "code",
   "execution_count": null,
   "metadata": {
    "collapsed": false
   },
   "outputs": [],
   "source": [
    "calc(a, b, c)        # calling the function: no space"
   ]
  },
  {
   "cell_type": "code",
   "execution_count": null,
   "metadata": {
    "collapsed": false
   },
   "outputs": [],
   "source": [
    "# lambda functions:\n",
    "x -> x^5 - 3"
   ]
  },
  {
   "cell_type": "code",
   "execution_count": null,
   "metadata": {
    "collapsed": false
   },
   "outputs": [],
   "source": [
    "map(x -> x^5 - 3, 0:5)"
   ]
  },
  {
   "cell_type": "code",
   "execution_count": null,
   "metadata": {
    "collapsed": false
   },
   "outputs": [],
   "source": [
    "# general function:\n",
    "function calc(a, b, c)    # generic: no types!\n",
    "    if a < 0\n",
    "        return 0\n",
    "    end\n",
    "    (a + b) * c           # return optional\n",
    "end"
   ]
  },
  {
   "cell_type": "code",
   "execution_count": null,
   "metadata": {
    "collapsed": false
   },
   "outputs": [],
   "source": [
    "calc(-1, 2, 3)          # works for integers"
   ]
  },
  {
   "cell_type": "code",
   "execution_count": null,
   "metadata": {
    "collapsed": false
   },
   "outputs": [],
   "source": [
    "calc(-3.5, 2.0, 3)      # works for floats"
   ]
  },
  {
   "cell_type": "code",
   "execution_count": null,
   "metadata": {
    "collapsed": false
   },
   "outputs": [],
   "source": [
    "function calc(a::Int64, b, c)    # generic: no types!\n",
    "    if a < 0\n",
    "        return -42\n",
    "    end\n",
    "    (a + b) * c           # return optional\n",
    "end"
   ]
  },
  {
   "cell_type": "markdown",
   "metadata": {},
   "source": [
    "3 important observations:\n",
    "\n",
    "(1) A generic function can have a number of typed methods   (see +)\n",
    "\n",
    "        !! The executable native code that is generated is type specialized !! ==> PERFORMANCE\n",
    "\n",
    "(2) Indicating the type of the function parameters is not necessary: these are determined by the compiler\n",
    "\n",
    "(3) Multiple dispatch: the most suitable method is automatically chosen (according to types)"
   ]
  },
  {
   "cell_type": "code",
   "execution_count": null,
   "metadata": {
    "collapsed": false
   },
   "outputs": [],
   "source": [
    "# Another example of multiple dispatch:\n",
    "md(a, b) = \"base case\"\n",
    "md(a::Number, b::Number) = \"a and b are numbers\"\n",
    "md(a::Number, b) = \"a=number, b=?\"\n",
    "md(a, b::Number) = \"a=?, b=number\"\n",
    "md(a::Integer, b::Integer) = \"a and b are integers\""
   ]
  },
  {
   "cell_type": "code",
   "execution_count": null,
   "metadata": {
    "collapsed": false
   },
   "outputs": [],
   "source": [
    "md(5.0, 1)"
   ]
  },
  {
   "cell_type": "code",
   "execution_count": null,
   "metadata": {
    "collapsed": false
   },
   "outputs": [],
   "source": [
    "md(5, 10)"
   ]
  },
  {
   "cell_type": "code",
   "execution_count": null,
   "metadata": {
    "collapsed": false
   },
   "outputs": [],
   "source": [
    "md(5, \"something\")"
   ]
  },
  {
   "cell_type": "code",
   "execution_count": null,
   "metadata": {
    "collapsed": false
   },
   "outputs": [],
   "source": [
    "md(\"something\", [2,4])"
   ]
  },
  {
   "cell_type": "markdown",
   "metadata": {},
   "source": [
    "### pipe operator |>"
   ]
  },
  {
   "cell_type": "code",
   "execution_count": null,
   "metadata": {
    "collapsed": false
   },
   "outputs": [],
   "source": [
    "arr = collect(1:5)\n"
   ]
  },
  {
   "cell_type": "code",
   "execution_count": null,
   "metadata": {
    "collapsed": false
   },
   "outputs": [],
   "source": [
    "inv(sum(map(x->x^2, arr)))"
   ]
  },
  {
   "cell_type": "code",
   "execution_count": null,
   "metadata": {
    "collapsed": false
   },
   "outputs": [],
   "source": [
    "arr |> x->x.^2 |> sum |> inv"
   ]
  },
  {
   "cell_type": "markdown",
   "metadata": {},
   "source": [
    "## Investigating performance with @time and @code_warntype"
   ]
  },
  {
   "cell_type": "code",
   "execution_count": null,
   "metadata": {
    "collapsed": false
   },
   "outputs": [],
   "source": [
    "sqrt(49)\n",
    "@time sqrt(49)   # measure performance after a 'dry run'"
   ]
  },
  {
   "cell_type": "code",
   "execution_count": null,
   "metadata": {
    "collapsed": false
   },
   "outputs": [],
   "source": [
    "#1 - all code global:\n",
    "include(\"glob.jl\")\n",
    "@time include(\"glob.jl\")"
   ]
  },
  {
   "cell_type": "code",
   "execution_count": null,
   "metadata": {
    "collapsed": false
   },
   "outputs": [],
   "source": [
    "#2 - code in a function:\n",
    "include(\"func.jl\")\n",
    "@time include(\"func.jl\")"
   ]
  },
  {
   "cell_type": "code",
   "execution_count": null,
   "metadata": {
    "collapsed": false
   },
   "outputs": [],
   "source": [
    "#3 - make code type stable:\n",
    "include(\"func_type_stable.jl\")\n",
    "@time include(\"func_type_stable.jl\")"
   ]
  },
  {
   "cell_type": "markdown",
   "metadata": {},
   "source": [
    "To increase performance when code is production-ready:\n",
    "#### put ALL code in functions\n",
    "#### ensure type stability of functions: \n",
    "            a variable must not change type\n",
    "            a function always returns the same type, no matter what the input values are"
   ]
  },
  {
   "cell_type": "code",
   "execution_count": null,
   "metadata": {
    "collapsed": false
   },
   "outputs": [],
   "source": [
    "function calculation()\n",
    "    result = 0\n",
    "    n = 1000_000\n",
    "    for i in 1:n\n",
    "        result += sin(rand())\n",
    "    end\n",
    "    return result \n",
    "end\n",
    "\n",
    "@code_warntype calculation()"
   ]
  },
  {
   "cell_type": "code",
   "execution_count": null,
   "metadata": {
    "collapsed": false
   },
   "outputs": [],
   "source": [
    "function calculation()\n",
    "    result = 0.0\n",
    "    n = 1000_000\n",
    "    for i in 1:n\n",
    "        result += sin(rand())\n",
    "    end\n",
    "    return result \n",
    "end\n",
    "\n",
    "@code_warntype calculation()"
   ]
  },
  {
   "cell_type": "markdown",
   "metadata": {},
   "source": [
    "### 4- macros\n",
    "Macros can change or generate code at compile time, start with @, example: @time\n",
    "\n",
    "2 kinds:\n",
    "    - built-in\n",
    "    - self-made"
   ]
  },
  {
   "cell_type": "code",
   "execution_count": null,
   "metadata": {
    "collapsed": false
   },
   "outputs": [],
   "source": [
    "@assert 108 == 2 + 105"
   ]
  },
  {
   "cell_type": "code",
   "execution_count": null,
   "metadata": {
    "collapsed": false
   },
   "outputs": [],
   "source": [
    "@which (1 + 2im) * (2 - 8im)"
   ]
  },
  {
   "cell_type": "markdown",
   "metadata": {},
   "source": [
    "### 5- scope and modules"
   ]
  },
  {
   "cell_type": "code",
   "execution_count": null,
   "metadata": {
    "collapsed": false
   },
   "outputs": [],
   "source": [
    "# scope:\n",
    "function func3(x)\n",
    "    y = 5\n",
    "    print(x*y)\n",
    "end"
   ]
  },
  {
   "cell_type": "code",
   "execution_count": null,
   "metadata": {
    "collapsed": false
   },
   "outputs": [],
   "source": [
    "func3(3)"
   ]
  },
  {
   "cell_type": "code",
   "execution_count": null,
   "metadata": {
    "collapsed": false
   },
   "outputs": [],
   "source": [
    "y"
   ]
  },
  {
   "cell_type": "markdown",
   "metadata": {},
   "source": [
    "Code is grouped in modules.\n",
    "A module forms a separate namespace for its constants, variables and functions.\n",
    "\n",
    "A library in Julia is called a **package**, it is a module or group of modules.\n",
    "\n",
    "Standard modules: \n",
    "\n",
    "    - Core and Base (= standard library): automatically imported\n",
    "    - Main = top-level module"
   ]
  },
  {
   "cell_type": "code",
   "execution_count": null,
   "metadata": {
    "collapsed": false
   },
   "outputs": [],
   "source": [
    "whos()"
   ]
  },
  {
   "cell_type": "markdown",
   "metadata": {},
   "source": [
    "All other modules:\n",
    "\n",
    "    - if already installed:  using ModuleName"
   ]
  },
  {
   "cell_type": "code",
   "execution_count": null,
   "metadata": {
    "collapsed": false
   },
   "outputs": [],
   "source": [
    "using Benchmarks\n",
    "f(x) = x^4 + 3x^2 - x + 7 \n",
    "@benchmark f(542)"
   ]
  },
  {
   "cell_type": "code",
   "execution_count": null,
   "metadata": {
    "collapsed": false
   },
   "outputs": [],
   "source": [
    "using Base.Test\n",
    "@test_approx_eq 2 2.1"
   ]
  },
  {
   "cell_type": "code",
   "execution_count": null,
   "metadata": {
    "collapsed": false
   },
   "outputs": [],
   "source": [
    "@test_approx_eq_eps 2 2.1 0.15"
   ]
  },
  {
   "cell_type": "markdown",
   "metadata": {},
   "source": [
    "How to define your own module(s)?"
   ]
  },
  {
   "cell_type": "code",
   "execution_count": null,
   "metadata": {
    "collapsed": false
   },
   "outputs": [],
   "source": [
    "module MyModule\n",
    "       \n",
    "    export bar, n\n",
    "    n = 42\n",
    "    bar(x) = 2x\n",
    "    foo(x) = 5x^5 - 4\n",
    "\n",
    "end"
   ]
  },
  {
   "cell_type": "code",
   "execution_count": null,
   "metadata": {
    "collapsed": false
   },
   "outputs": [],
   "source": [
    "foo(5)"
   ]
  },
  {
   "cell_type": "code",
   "execution_count": null,
   "metadata": {
    "collapsed": false
   },
   "outputs": [],
   "source": [
    "bar(5)"
   ]
  },
  {
   "cell_type": "code",
   "execution_count": null,
   "metadata": {
    "collapsed": false
   },
   "outputs": [],
   "source": [
    "MyModule.bar(5)"
   ]
  },
  {
   "cell_type": "code",
   "execution_count": null,
   "metadata": {
    "collapsed": false
   },
   "outputs": [],
   "source": [
    "MyModule.foo(5)"
   ]
  },
  {
   "cell_type": "code",
   "execution_count": null,
   "metadata": {
    "collapsed": true
   },
   "outputs": [],
   "source": [
    "using MyModule     # makes known all exported variables and functions"
   ]
  },
  {
   "cell_type": "code",
   "execution_count": null,
   "metadata": {
    "collapsed": false
   },
   "outputs": [],
   "source": [
    "n"
   ]
  },
  {
   "cell_type": "code",
   "execution_count": null,
   "metadata": {
    "collapsed": false
   },
   "outputs": [],
   "source": [
    "bar(6)"
   ]
  },
  {
   "cell_type": "code",
   "execution_count": null,
   "metadata": {
    "collapsed": false
   },
   "outputs": [],
   "source": [
    "foo(6)"
   ]
  },
  {
   "cell_type": "code",
   "execution_count": null,
   "metadata": {
    "collapsed": false
   },
   "outputs": [],
   "source": [
    "module MyModule2\n",
    "\n",
    "    using MyModule   \n",
    "    export baragain \n",
    "    baragain() = print(bar(2))\n",
    "\n",
    "end"
   ]
  },
  {
   "cell_type": "code",
   "execution_count": null,
   "metadata": {
    "collapsed": false
   },
   "outputs": [],
   "source": [
    "MyModule2.baragain()"
   ]
  },
  {
   "cell_type": "markdown",
   "metadata": {},
   "source": [
    "Example using include:\n",
    "\n",
    "    iris_tools.jl and use_iris_tools.jl"
   ]
  },
  {
   "cell_type": "markdown",
   "metadata": {},
   "source": [
    "### 6- packages"
   ]
  },
  {
   "cell_type": "markdown",
   "metadata": {},
   "source": [
    "     - Finding a package    \n",
    "             Julia: http://pkg.julialang.org\n",
    "             interface with R, MATLAB and Python libraries via RCall, MATLAB and PyCall packages\n",
    "         "
   ]
  },
  {
   "cell_type": "markdown",
   "metadata": {},
   "source": [
    "     - Installing a package to your Julia environment\n",
    "             built-in package manager Pkg\n",
    "             "
   ]
  },
  {
   "cell_type": "code",
   "execution_count": null,
   "metadata": {
    "collapsed": false
   },
   "outputs": [],
   "source": [
    "Pkg.add(\"RCall\")          # if package is published in the GitHub repository"
   ]
  },
  {
   "cell_type": "code",
   "execution_count": null,
   "metadata": {
    "collapsed": false
   },
   "outputs": [],
   "source": [
    "# What is installed?\n",
    "Pkg.status()"
   ]
  },
  {
   "cell_type": "code",
   "execution_count": null,
   "metadata": {
    "collapsed": false
   },
   "outputs": [],
   "source": [
    "# Updating packages in your Julia environment:\n",
    "Pkg.update()"
   ]
  },
  {
   "cell_type": "code",
   "execution_count": null,
   "metadata": {
    "collapsed": true
   },
   "outputs": [],
   "source": [
    "# Getting a package from GitHub if not in repository, for example ANN:\n",
    "Pkg.clone(\"git@github.com:EricChiang/ANN.jl.git\")"
   ]
  },
  {
   "cell_type": "code",
   "execution_count": null,
   "metadata": {
    "collapsed": true
   },
   "outputs": [],
   "source": [
    "# pinning a package to a certain version:\n",
    "Pkg.pin(\"HDF5\", v\"0.4.3\")"
   ]
  },
  {
   "cell_type": "markdown",
   "metadata": {},
   "source": [
    "### 7- simple data example"
   ]
  },
  {
   "cell_type": "code",
   "execution_count": 1,
   "metadata": {
    "collapsed": false
   },
   "outputs": [
    {
     "data": {
      "text/html": [
       "<table class=\"data-frame\"><tr><th></th><th>sepal_length</th><th>sepal_width</th><th>petal_length</th><th>petal_width</th><th>species</th></tr><tr><th>1</th><td>5.1</td><td>3.5</td><td>1.4</td><td>0.2</td><td>I. setosa</td></tr><tr><th>2</th><td>4.9</td><td>3.0</td><td>1.4</td><td>0.2</td><td>I. setosa</td></tr><tr><th>3</th><td>4.7</td><td>3.2</td><td>1.3</td><td>0.2</td><td>I. setosa</td></tr><tr><th>4</th><td>4.6</td><td>3.1</td><td>1.5</td><td>0.2</td><td>I. setosa</td></tr><tr><th>5</th><td>5.0</td><td>3.6</td><td>1.4</td><td>0.2</td><td>I. setosa</td></tr><tr><th>6</th><td>5.4</td><td>3.9</td><td>1.7</td><td>0.4</td><td>I. setosa</td></tr><tr><th>7</th><td>4.6</td><td>3.4</td><td>1.4</td><td>0.3</td><td>I. setosa</td></tr><tr><th>8</th><td>5.0</td><td>3.4</td><td>1.5</td><td>0.2</td><td>I. setosa</td></tr><tr><th>9</th><td>4.4</td><td>2.9</td><td>1.4</td><td>0.2</td><td>I. setosa</td></tr><tr><th>10</th><td>4.9</td><td>3.1</td><td>1.5</td><td>0.1</td><td>I. setosa</td></tr><tr><th>11</th><td>5.4</td><td>3.7</td><td>1.5</td><td>0.2</td><td>I. setosa</td></tr><tr><th>12</th><td>4.8</td><td>3.4</td><td>1.6</td><td>0.2</td><td>I. setosa</td></tr><tr><th>13</th><td>4.8</td><td>3.0</td><td>1.4</td><td>0.1</td><td>I. setosa</td></tr><tr><th>14</th><td>4.3</td><td>3.0</td><td>1.1</td><td>0.1</td><td>I. setosa</td></tr><tr><th>15</th><td>5.8</td><td>4.0</td><td>1.2</td><td>0.2</td><td>I. setosa</td></tr><tr><th>16</th><td>5.7</td><td>4.4</td><td>1.5</td><td>0.4</td><td>I. setosa</td></tr><tr><th>17</th><td>5.4</td><td>3.9</td><td>1.3</td><td>0.4</td><td>I. setosa</td></tr><tr><th>18</th><td>5.1</td><td>3.5</td><td>1.4</td><td>0.3</td><td>I. setosa</td></tr><tr><th>19</th><td>5.7</td><td>3.8</td><td>1.7</td><td>0.3</td><td>I. setosa</td></tr><tr><th>20</th><td>5.1</td><td>3.8</td><td>1.5</td><td>0.3</td><td>I. setosa</td></tr><tr><th>21</th><td>5.4</td><td>3.4</td><td>1.7</td><td>0.2</td><td>I. setosa</td></tr><tr><th>22</th><td>5.1</td><td>3.7</td><td>1.5</td><td>0.4</td><td>I. setosa</td></tr><tr><th>23</th><td>4.6</td><td>3.6</td><td>1.0</td><td>0.2</td><td>I. setosa</td></tr><tr><th>24</th><td>5.1</td><td>3.3</td><td>1.7</td><td>0.5</td><td>I. setosa</td></tr><tr><th>25</th><td>4.8</td><td>3.4</td><td>1.9</td><td>0.2</td><td>I. setosa</td></tr><tr><th>26</th><td>5.0</td><td>3.0</td><td>1.6</td><td>0.2</td><td>I. setosa</td></tr><tr><th>27</th><td>5.0</td><td>3.4</td><td>1.6</td><td>0.4</td><td>I. setosa</td></tr><tr><th>28</th><td>5.2</td><td>3.5</td><td>1.5</td><td>0.2</td><td>I. setosa</td></tr><tr><th>29</th><td>5.2</td><td>3.4</td><td>1.4</td><td>0.2</td><td>I. setosa</td></tr><tr><th>30</th><td>4.7</td><td>3.2</td><td>1.6</td><td>0.2</td><td>I. setosa</td></tr><tr><th>&vellip;</th><td>&vellip;</td><td>&vellip;</td><td>&vellip;</td><td>&vellip;</td><td>&vellip;</td></tr></table>"
      ],
      "text/plain": [
       "150×5 DataFrames.DataFrame\n",
       "│ Row │ sepal_length │ sepal_width │ petal_length │ petal_width │\n",
       "├─────┼──────────────┼─────────────┼──────────────┼─────────────┤\n",
       "│ 1   │ 5.1          │ 3.5         │ 1.4          │ 0.2         │\n",
       "│ 2   │ 4.9          │ 3.0         │ 1.4          │ 0.2         │\n",
       "│ 3   │ 4.7          │ 3.2         │ 1.3          │ 0.2         │\n",
       "│ 4   │ 4.6          │ 3.1         │ 1.5          │ 0.2         │\n",
       "│ 5   │ 5.0          │ 3.6         │ 1.4          │ 0.2         │\n",
       "│ 6   │ 5.4          │ 3.9         │ 1.7          │ 0.4         │\n",
       "│ 7   │ 4.6          │ 3.4         │ 1.4          │ 0.3         │\n",
       "│ 8   │ 5.0          │ 3.4         │ 1.5          │ 0.2         │\n",
       "│ 9   │ 4.4          │ 2.9         │ 1.4          │ 0.2         │\n",
       "│ 10  │ 4.9          │ 3.1         │ 1.5          │ 0.1         │\n",
       "│ 11  │ 5.4          │ 3.7         │ 1.5          │ 0.2         │\n",
       "⋮\n",
       "│ 139 │ 6.0          │ 3.0         │ 4.8          │ 1.8         │\n",
       "│ 140 │ 6.9          │ 3.1         │ 5.4          │ 2.1         │\n",
       "│ 141 │ 6.7          │ 3.1         │ 5.6          │ 2.4         │\n",
       "│ 142 │ 6.9          │ 3.1         │ 5.1          │ 2.3         │\n",
       "│ 143 │ 5.8          │ 2.7         │ 5.1          │ 1.9         │\n",
       "│ 144 │ 6.8          │ 3.2         │ 5.9          │ 2.3         │\n",
       "│ 145 │ 6.7          │ 3.3         │ 5.7          │ 2.5         │\n",
       "│ 146 │ 6.7          │ 3.0         │ 5.2          │ 2.3         │\n",
       "│ 147 │ 6.3          │ 2.5         │ 5.0          │ 1.9         │\n",
       "│ 148 │ 6.5          │ 3.0         │ 5.2          │ 2.0         │\n",
       "│ 149 │ 6.2          │ 3.4         │ 5.4          │ 2.3         │\n",
       "│ 150 │ 5.9          │ 3.0         │ 5.1          │ 1.8         │\n",
       "\n",
       "│ Row │ species        │\n",
       "├─────┼────────────────┤\n",
       "│ 1   │ \"I. setosa\"    │\n",
       "│ 2   │ \"I. setosa\"    │\n",
       "│ 3   │ \"I. setosa\"    │\n",
       "│ 4   │ \"I. setosa\"    │\n",
       "│ 5   │ \"I. setosa\"    │\n",
       "│ 6   │ \"I. setosa\"    │\n",
       "│ 7   │ \"I. setosa\"    │\n",
       "│ 8   │ \"I. setosa\"    │\n",
       "│ 9   │ \"I. setosa\"    │\n",
       "│ 10  │ \"I. setosa\"    │\n",
       "│ 11  │ \"I. setosa\"    │\n",
       "⋮\n",
       "│ 139 │ \"I. virginica\" │\n",
       "│ 140 │ \"I. virginica\" │\n",
       "│ 141 │ \"I. virginica\" │\n",
       "│ 142 │ \"I. virginica\" │\n",
       "│ 143 │ \"I. virginica\" │\n",
       "│ 144 │ \"I. virginica\" │\n",
       "│ 145 │ \"I. virginica\" │\n",
       "│ 146 │ \"I. virginica\" │\n",
       "│ 147 │ \"I. virginica\" │\n",
       "│ 148 │ \"I. virginica\" │\n",
       "│ 149 │ \"I. virginica\" │\n",
       "│ 150 │ \"I. virginica\" │"
      ]
     },
     "execution_count": 1,
     "metadata": {},
     "output_type": "execute_result"
    }
   ],
   "source": [
    "fname = \"iris.csv\"\n",
    "using DataFrames\n",
    "data = readtable(fname, separator = ',')"
   ]
  },
  {
   "cell_type": "code",
   "execution_count": null,
   "metadata": {
    "collapsed": false
   },
   "outputs": [
    {
     "name": "stderr",
     "output_type": "stream",
     "text": [
      "INFO: Recompiling stale cache file C:\\Users\\CVO\\.julia\\lib\\v0.4\\Gadfly.ji for module Gadfly.\n",
      "INFO: Recompiling stale cache file C:\\Users\\CVO\\.julia\\lib\\v0.4\\FixedPointNumbers.ji for module FixedPointNumbers.\n",
      "INFO: Recompiling stale cache file C:\\Users\\CVO\\.julia\\lib\\v0.4\\Colors.ji for module Colors.\n",
      "INFO: Recompiling stale cache file C:\\Users\\CVO\\.julia\\lib\\v0.4\\ColorTypes.ji for module ColorTypes.\n",
      "INFO: Recompiling stale cache file C:\\Users\\CVO\\.julia\\lib\\v0.4\\Compose.ji for module Compose.\n",
      "INFO: Recompiling stale cache file C:\\Users\\CVO\\.julia\\lib\\v0.4\\Iterators.ji for module Iterators.\n",
      "INFO: Recompiling stale cache file C:\\Users\\CVO\\.julia\\lib\\v0.4\\Measures.ji for module Measures.\n",
      "INFO: Recompiling stale cache file C:\\Users\\CVO\\.julia\\lib\\v0.4\\Cairo.ji for module Cairo.\n",
      "INFO: Recompiling stale cache file C:\\Users\\CVO\\.julia\\lib\\v0.4\\Graphics.ji for module Graphics.\n"
     ]
    }
   ],
   "source": [
    "# drawing a scatterplot with package Gadfly:\n",
    "using Gadfly\n",
    "set_default_plot_size(15cm, 15cm/golden)\n",
    "p = plot(data, x=\"sepal_width\", y=\"sepal_length\", \n",
    "         color=\"species\",\n",
    "         Guide.xlabel(\"Sepal Width\"),  \n",
    "         Guide.ylabel(\"Sepal Length\"), \n",
    "Guide.title(\"Scatterplot of Sepal Length versus Width\") )"
   ]
  }
 ],
 "metadata": {
  "kernelspec": {
   "display_name": "Julia 0.4.5",
   "language": "julia",
   "name": "julia-0.4"
  },
  "language_info": {
   "file_extension": ".jl",
   "mimetype": "application/julia",
   "name": "julia",
   "version": "0.4.5"
  }
 },
 "nbformat": 4,
 "nbformat_minor": 0
}
